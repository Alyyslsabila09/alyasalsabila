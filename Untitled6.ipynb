{
  "nbformat": 4,
  "nbformat_minor": 0,
  "metadata": {
    "colab": {
      "provenance": []
    },
    "kernelspec": {
      "name": "python3",
      "display_name": "Python 3"
    },
    "language_info": {
      "name": "python"
    }
  },
  "cells": [
    {
      "cell_type": "code",
      "execution_count": null,
      "metadata": {
        "id": "hGDme4VUjfht"
      },
      "outputs": [],
      "source": []
    },
    {
      "cell_type": "markdown",
      "source": [
        "1. Buatlah fungsi lambda untuk menghitung fungsi dari persegi panjang\n",
        "\n",
        "Untuk membuat fungsi lambda yang menghitung luas persegi panjang, kita dapat menggunakan sintaks berikut:"
      ],
      "metadata": {
        "id": "c68jkBVsjiSL"
      }
    },
    {
      "cell_type": "code",
      "source": [
        "luas_persegi_panjang = lambda p, l: p * l"
      ],
      "metadata": {
        "id": "qUuGRPglkFHw"
      },
      "execution_count": 1,
      "outputs": []
    },
    {
      "cell_type": "code",
      "source": [
        "# Memanggil fungsi lambda untuk menghitung luas persegi panjang\n",
        "luas = luas_persegi_panjang(5, 10)\n",
        "\n",
        "# Menampilkan hasil perhitungan\n",
        "print(\"Luas persegi panjang: \", luas)"
      ],
      "metadata": {
        "colab": {
          "base_uri": "https://localhost:8080/"
        },
        "id": "tlggfJufkNAN",
        "outputId": "7ab863fd-0eaf-4c93-90e1-6a6367dec1ee"
      },
      "execution_count": 2,
      "outputs": [
        {
          "output_type": "stream",
          "name": "stdout",
          "text": [
            "Luas persegi panjang:  50\n"
          ]
        }
      ]
    },
    {
      "cell_type": "markdown",
      "source": [
        "2. Buatlah fungsi lambda untuk menghitung luas dari segitiga\n",
        "\n",
        "Untuk membuat fungsi lambda yang menghitung luas segitiga, kita dapat menggunakan sintaks berikut:\n",
        "\n"
      ],
      "metadata": {
        "id": "JE3Z3GnUkbeD"
      }
    },
    {
      "cell_type": "code",
      "source": [
        "luas_segitiga = lambda a, t: 0.5 * a * t"
      ],
      "metadata": {
        "id": "gO6hFwYXkkvb"
      },
      "execution_count": 3,
      "outputs": []
    },
    {
      "cell_type": "code",
      "source": [
        "# Memanggil fungsi lambda untuk menghitung luas segitiga\n",
        "luas = luas_segitiga(5, 10)\n",
        "\n",
        "# Menampilkan hasil perhitungan\n",
        "print(\"Luas segitiga: \", luas)"
      ],
      "metadata": {
        "colab": {
          "base_uri": "https://localhost:8080/"
        },
        "id": "lJdrOihHkou4",
        "outputId": "faf37815-b94d-4dba-a9f2-2a1de071f404"
      },
      "execution_count": 4,
      "outputs": [
        {
          "output_type": "stream",
          "name": "stdout",
          "text": [
            "Luas segitiga:  25.0\n"
          ]
        }
      ]
    }
  ]
}